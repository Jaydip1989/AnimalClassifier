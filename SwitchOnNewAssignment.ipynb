{
  "nbformat": 4,
  "nbformat_minor": 0,
  "metadata": {
    "colab": {
      "name": "SwitchOnNewAssignment.ipynb",
      "provenance": [],
      "private_outputs": true,
      "collapsed_sections": [],
      "mount_file_id": "1IhJY5WPXuSEmjtwO51pdl3st7NrJJ2HU",
      "authorship_tag": "ABX9TyOiMj/SIOgvdvpgALRODqvF",
      "include_colab_link": true
    },
    "kernelspec": {
      "name": "python3",
      "display_name": "Python 3"
    },
    "accelerator": "TPU"
  },
  "cells": [
    {
      "cell_type": "markdown",
      "metadata": {
        "id": "view-in-github",
        "colab_type": "text"
      },
      "source": [
        "<a href=\"https://colab.research.google.com/github/Jaydip1989/AnimalClassifier/blob/master/SwitchOnNewAssignment.ipynb\" target=\"_parent\"><img src=\"https://colab.research.google.com/assets/colab-badge.svg\" alt=\"Open In Colab\"/></a>"
      ]
    },
    {
      "cell_type": "code",
      "metadata": {
        "id": "_x9TI1bCh-s0",
        "colab_type": "code",
        "colab": {}
      },
      "source": [
        "image_dir=\"/content/drive/My Drive/SwitchOnNew/images/\""
      ],
      "execution_count": null,
      "outputs": []
    },
    {
      "cell_type": "code",
      "metadata": {
        "id": "Q6Kh3yT4iZHX",
        "colab_type": "code",
        "colab": {}
      },
      "source": [
        "import numpy as np\n",
        "import matplotlib.pyplot as plt\n",
        "import keras\n",
        "from keras.preprocessing.image import ImageDataGenerator, load_img\n",
        "from keras.models import Sequential, load_model, model_from_json\n",
        "from keras.layers import Conv2D, MaxPooling2D\n",
        "from keras.layers import Dense, Dropout, Flatten\n",
        "from keras.optimizers import Adam"
      ],
      "execution_count": null,
      "outputs": []
    },
    {
      "cell_type": "code",
      "metadata": {
        "id": "jOuJHKMkj2ge",
        "colab_type": "code",
        "colab": {}
      },
      "source": [
        "num_classes = 2\n",
        "img_rows,img_cols = 64,64\n",
        "batch_size = 100"
      ],
      "execution_count": null,
      "outputs": []
    },
    {
      "cell_type": "code",
      "metadata": {
        "id": "HzKNsWWcjkZd",
        "colab_type": "code",
        "colab": {}
      },
      "source": [
        "datagen = ImageDataGenerator(rescale = 1./255,\n",
        "                             validation_split=0.2)"
      ],
      "execution_count": null,
      "outputs": []
    },
    {
      "cell_type": "code",
      "metadata": {
        "id": "9XVJJ7vSkkBQ",
        "colab_type": "code",
        "colab": {}
      },
      "source": [
        "train_generator = datagen.flow_from_directory(directory=image_dir,\n",
        "                                              target_size=(img_rows, img_cols),\n",
        "                                              batch_size = batch_size,\n",
        "                                              shuffle = True,\n",
        "                                              class_mode = \"categorical\",\n",
        "                                              subset=\"training\")"
      ],
      "execution_count": null,
      "outputs": []
    },
    {
      "cell_type": "code",
      "metadata": {
        "id": "79UW7ePrlA9w",
        "colab_type": "code",
        "colab": {}
      },
      "source": [
        "val_generator = datagen.flow_from_directory(directory = image_dir,\n",
        "                                            target_size=(img_rows, img_cols),\n",
        "                                            batch_size = batch_size,\n",
        "                                            shuffle = True,\n",
        "                                            subset=\"validation\",\n",
        "                                            class_mode = \"categorical\")"
      ],
      "execution_count": null,
      "outputs": []
    },
    {
      "cell_type": "code",
      "metadata": {
        "id": "16MH3AMiM7qA",
        "colab_type": "code",
        "colab": {}
      },
      "source": [
        "train_samples = train_generator.n//train_generator.batch_size\n",
        "val_samples = val_generator.n//val_generator.batch_size\n"
      ],
      "execution_count": null,
      "outputs": []
    },
    {
      "cell_type": "code",
      "metadata": {
        "id": "y3U0AQUcEUu8",
        "colab_type": "code",
        "colab": {}
      },
      "source": [
        "from keras.applications import VGG16\n",
        "from keras.layers import Conv2D, MaxPooling2D, ZeroPadding2D, GlobalAveragePooling2D\n",
        "from keras.layers import Flatten, Dense\n",
        "from keras.models import Sequential, Model"
      ],
      "execution_count": null,
      "outputs": []
    },
    {
      "cell_type": "code",
      "metadata": {
        "id": "96qTNC76EUK7",
        "colab_type": "code",
        "colab": {}
      },
      "source": [
        "img_rows, img_cols = 224, 224\n",
        "vgg = VGG16(weights=\"imagenet\",\n",
        "            input_shape=(224,224, 3),\n",
        "            include_top = False)\n",
        "for layer in vgg.layers:\n",
        "  layer.trainable = False\n",
        "\n",
        "def top_model(bottom_model, num_classes):\n",
        "  top_model = bottom_model.output\n",
        "  top_model = GlobalAveragePooling2D()(top_model)\n",
        "  top_model = Dense(1024, activation=\"relu\")(top_model)\n",
        "  top_model = Dropout(0.25)(top_model)\n",
        "  top_model = Dense(1024, activation=\"relu\")(top_model)\n",
        "  top_model = Dropout(0.25)(top_model)\n",
        "  top_model = Dense(num_classes, activation=\"softmax\")(top_model)\n",
        "  return top_model\n",
        "\n",
        "FC_Head = top_model(vgg, num_classes)\n",
        "vggmodel = Model(inputs = vgg.input, outputs = FC_Head)\n",
        "vggmodel.summary()"
      ],
      "execution_count": null,
      "outputs": []
    },
    {
      "cell_type": "code",
      "metadata": {
        "id": "LiV2e82nHcDn",
        "colab_type": "code",
        "colab": {}
      },
      "source": [
        "vggmodel.compile(loss=\"categorical_crossentropy\",\n",
        "              optimizer=Adam(lr=0.001),\n",
        "              metrics=['accuracy'])"
      ],
      "execution_count": null,
      "outputs": []
    },
    {
      "cell_type": "code",
      "metadata": {
        "id": "C4aypmO1Hjp5",
        "colab_type": "code",
        "colab": {}
      },
      "source": [
        "epochs = 5\n",
        "vggmodel.fit(train_generator,\n",
        "          epochs=epochs,\n",
        "          steps_per_epoch = train_samples,\n",
        "          validation_data = val_generator,\n",
        "          validation_steps = val_samples)"
      ],
      "execution_count": null,
      "outputs": []
    },
    {
      "cell_type": "code",
      "metadata": {
        "id": "Zohdh_3IHwrb",
        "colab_type": "code",
        "colab": {}
      },
      "source": [
        "scores = vggmodel.evaluate(val_generator, steps = val_samples, verbose=1)\n",
        "print(\"\\n Validation Accuracy:%.3f Validation Loss:%.3f\"%(scores[1]*100,scores[0]))"
      ],
      "execution_count": null,
      "outputs": []
    },
    {
      "cell_type": "code",
      "metadata": {
        "id": "xOBIxHY_H5pO",
        "colab_type": "code",
        "colab": {}
      },
      "source": [
        "vggmodel.save('VGG16Netmodel_badimages.h5')\n",
        "vgg_classifier = load_model('VGG16Netmodel_badimages.h5')"
      ],
      "execution_count": null,
      "outputs": []
    },
    {
      "cell_type": "code",
      "metadata": {
        "id": "477iDkcdXy6T",
        "colab_type": "code",
        "colab": {}
      },
      "source": [
        "vggmodel.compile(loss=\"categorical_crossentropy\",\n",
        "              optimizer=Adam(lr=0.0001),\n",
        "              metrics=['accuracy'])"
      ],
      "execution_count": null,
      "outputs": []
    },
    {
      "cell_type": "code",
      "metadata": {
        "id": "ajhUDY8EYAqI",
        "colab_type": "code",
        "colab": {}
      },
      "source": [
        "epochs = 15\n",
        "vggmodel.fit(train_generator,\n",
        "          epochs=epochs,\n",
        "          steps_per_epoch = train_samples,\n",
        "          validation_data = val_generator,\n",
        "          validation_steps = val_samples)"
      ],
      "execution_count": null,
      "outputs": []
    },
    {
      "cell_type": "code",
      "metadata": {
        "id": "T4nI9oMyYeQ2",
        "colab_type": "code",
        "colab": {}
      },
      "source": [
        "scores = vggmodel.evaluate(val_generator, steps = val_samples, verbose=1)\n",
        "print(\"\\n Validation Accuracy:%.3f Validation Loss:%.3f\"%(scores[1]*100,scores[0]))"
      ],
      "execution_count": null,
      "outputs": []
    },
    {
      "cell_type": "code",
      "metadata": {
        "id": "I8lZbIgUYfsB",
        "colab_type": "code",
        "colab": {}
      },
      "source": [
        "vggmodel.save('VGG16Netmodel2_badimages.h5')\n",
        "vgg_classifier2 = load_model('VGG16Netmodel2_badimages.h5')"
      ],
      "execution_count": null,
      "outputs": []
    },
    {
      "cell_type": "code",
      "metadata": {
        "id": "0PcXV_RkM8HD",
        "colab_type": "code",
        "colab": {}
      },
      "source": [
        "prediction = vgg_classifier.predict(val_generator, steps=val_samples,verbose=1)\n",
        "pred_labels = np.argmax(prediction, axis=1)\n",
        "print(pred_labels)"
      ],
      "execution_count": null,
      "outputs": []
    },
    {
      "cell_type": "code",
      "metadata": {
        "id": "6BKr5hNrM8UY",
        "colab_type": "code",
        "colab": {}
      },
      "source": [
        "from PIL import Image \n",
        "IMG = Image.open('/content/drive/My Drive/SwitchOnNew/good_or_bad_image.png')\n",
        "IMG = IMG.resize((224,224))\n",
        "IMG = np.array(IMG)\n",
        "IMG = np.true_divide(IMG,255)\n",
        "IMG = IMG.reshape(1, 224,224, 3)"
      ],
      "execution_count": null,
      "outputs": []
    },
    {
      "cell_type": "markdown",
      "metadata": {
        "id": "ceCa8qIJwpfg",
        "colab_type": "text"
      },
      "source": [
        "### The predictions below are the predictions from the model with learning rate of 0.001"
      ]
    },
    {
      "cell_type": "code",
      "metadata": {
        "id": "6eFbpioov1bu",
        "colab_type": "code",
        "colab": {}
      },
      "source": [
        "predictions = vgg_classifier.predict(IMG)\n",
        "predicted_classes = np.argmax(vgg_classifier.predict(IMG),axis=1)\n",
        "print(predictions, predicted_classes)"
      ],
      "execution_count": null,
      "outputs": []
    },
    {
      "cell_type": "code",
      "metadata": {
        "id": "PEgjKhVXM8J5",
        "colab_type": "code",
        "colab": {}
      },
      "source": [
        "classes = {\n",
        "    'TRAIN':['bad_images', 'good_images'],\n",
        "    'VALIDATION':['bad_images','good_images']}\n",
        "\n",
        "predicted_class = classes['VALIDATION'][predicted_classes[0]]\n",
        "print(\"I think this image is among the {}.\".format(predicted_class.lower()))"
      ],
      "execution_count": null,
      "outputs": []
    },
    {
      "cell_type": "code",
      "metadata": {
        "id": "LEatyYlCxGdq",
        "colab_type": "code",
        "colab": {}
      },
      "source": [
        "predictions = vgg_classifier2.predict(val_generator, steps=val_samples,verbose=1)\n",
        "predicted_labels = np.argmax(predictions, axis=1)\n",
        "print(predicted_labels)"
      ],
      "execution_count": null,
      "outputs": []
    },
    {
      "cell_type": "code",
      "metadata": {
        "id": "On8q0H85MvcG",
        "colab_type": "code",
        "colab": {}
      },
      "source": [
        "preds = vgg_classifier2.predict(val_generator, steps=val_samples,verbose=1)\n",
        "pred_labels = np.argmax(preds, axis=1)\n",
        "print(pred_labels)"
      ],
      "execution_count": null,
      "outputs": []
    },
    {
      "cell_type": "code",
      "metadata": {
        "id": "AtLvPtv0w8YM",
        "colab_type": "code",
        "colab": {}
      },
      "source": [
        "preds = vgg_classifier2.predict(IMG)\n",
        "predicted_classes = np.argmax(vgg_classifier2.predict(IMG),axis=1)\n",
        "print(preds, predicted_classes)"
      ],
      "execution_count": null,
      "outputs": []
    },
    {
      "cell_type": "code",
      "metadata": {
        "id": "L0Jf9KVAxEoS",
        "colab_type": "code",
        "colab": {}
      },
      "source": [
        "classes = {\n",
        "    'TRAIN':['bad_images', 'good_images'],\n",
        "    'VALIDATION':['bad_images','good_images']}\n",
        "\n",
        "predicted_class = classes['VALIDATION'][predicted_classes[0]]\n",
        "print(\"I think this image is among the {}.\".format(predicted_class.lower()))"
      ],
      "execution_count": null,
      "outputs": []
    },
    {
      "cell_type": "code",
      "metadata": {
        "id": "QNHsdXLWyGwe",
        "colab_type": "code",
        "colab": {}
      },
      "source": [
        "from PIL import Image \n",
        "image = Image.open('/content/drive/My Drive/SwitchOnNew/good_or_bad_image2.png')\n",
        "image = image.resize((224,224))\n",
        "image = np.array(image)\n",
        "image = np.true_divide(image,255)\n",
        "image = image.reshape(1, 224,224, 3)"
      ],
      "execution_count": null,
      "outputs": []
    },
    {
      "cell_type": "code",
      "metadata": {
        "id": "1daQi8MgyQkE",
        "colab_type": "code",
        "colab": {}
      },
      "source": [
        "preds = vgg_classifier2.predict(image)\n",
        "predicted_classes = np.argmax(vgg_classifier2.predict(image),axis=1)\n",
        "print(preds, predicted_classes)"
      ],
      "execution_count": null,
      "outputs": []
    },
    {
      "cell_type": "code",
      "metadata": {
        "id": "KBxZOrpUy3KM",
        "colab_type": "code",
        "colab": {}
      },
      "source": [
        "classes = {\n",
        "    'TRAIN':['bad_images', 'good_images'],\n",
        "    'VALIDATION':['bad_images','good_images']}\n",
        "\n",
        "predicted_class = classes['VALIDATION'][predicted_classes[0]]\n",
        "print(\"I think this image is among the {}.\".format(predicted_class.lower()))"
      ],
      "execution_count": null,
      "outputs": []
    },
    {
      "cell_type": "code",
      "metadata": {
        "id": "6VQR33MOzFUt",
        "colab_type": "code",
        "colab": {}
      },
      "source": [
        ""
      ],
      "execution_count": null,
      "outputs": []
    }
  ]
}